{
 "cells": [
  {
   "cell_type": "code",
   "execution_count": 82,
   "metadata": {},
   "outputs": [],
   "source": [
    "import numpy as np\n",
    "import pandas as pd\n",
    "import random\n",
    "import sys\n",
    "\n",
    "import tensorflow\n",
    "import keras\n",
    "\n",
    "from keras.models import Sequential\n",
    "from keras.layers import Dense, Dropout, LSTM, RNN\n",
    "from keras.utils import np_utils"
   ]
  },
  {
   "cell_type": "code",
   "execution_count": 6,
   "metadata": {},
   "outputs": [],
   "source": [
    "df = pd.read_csv('/Users/mattmastin/Desktop/the-billie-project-ds/data/scraped_lyrics.csv')"
   ]
  },
  {
   "cell_type": "code",
   "execution_count": 32,
   "metadata": {},
   "outputs": [
    {
     "data": {
      "text/html": [
       "<div>\n",
       "<style scoped>\n",
       "    .dataframe tbody tr th:only-of-type {\n",
       "        vertical-align: middle;\n",
       "    }\n",
       "\n",
       "    .dataframe tbody tr th {\n",
       "        vertical-align: top;\n",
       "    }\n",
       "\n",
       "    .dataframe thead th {\n",
       "        text-align: right;\n",
       "    }\n",
       "</style>\n",
       "<table border=\"1\" class=\"dataframe\">\n",
       "  <thead>\n",
       "    <tr style=\"text-align: right;\">\n",
       "      <th></th>\n",
       "      <th>artist</th>\n",
       "      <th>title</th>\n",
       "      <th>song_id</th>\n",
       "      <th>lyrics</th>\n",
       "    </tr>\n",
       "  </thead>\n",
       "  <tbody>\n",
       "    <tr>\n",
       "      <th>0</th>\n",
       "      <td>Billie Eilish</td>\n",
       "      <td>COPYCAT</td>\n",
       "      <td>Billie-eilish-copycat</td>\n",
       "      <td>Don't be cautious, don't be kind, You committ...</td>\n",
       "    </tr>\n",
       "    <tr>\n",
       "      <th>1</th>\n",
       "      <td>Billie Eilish</td>\n",
       "      <td>​idontwannabeyouanymore</td>\n",
       "      <td>Billie-eilish-idontwannabeyouanymore</td>\n",
       "      <td>Don't be that way, 'Fall apart twice a day', ...</td>\n",
       "    </tr>\n",
       "    <tr>\n",
       "      <th>2</th>\n",
       "      <td>Billie Eilish</td>\n",
       "      <td>​my boy</td>\n",
       "      <td>Billie-eilish-my-boy</td>\n",
       "      <td>'(Three and four and)', 'Ba-ba-da, ba-ba-da-b...</td>\n",
       "    </tr>\n",
       "    <tr>\n",
       "      <th>3</th>\n",
       "      <td>Billie Eilish</td>\n",
       "      <td>​watch</td>\n",
       "      <td>Billie-eilish-watch</td>\n",
       "      <td>'Lips meet teeth and tongue', 'My heart skips...</td>\n",
       "    </tr>\n",
       "    <tr>\n",
       "      <th>4</th>\n",
       "      <td>Billie Eilish</td>\n",
       "      <td>​​party favor</td>\n",
       "      <td>Billie-eilish-party-favor</td>\n",
       "      <td>'Hey, leave a message',   'Hey, call me back ...</td>\n",
       "    </tr>\n",
       "    <tr>\n",
       "      <th>...</th>\n",
       "      <td>...</td>\n",
       "      <td>...</td>\n",
       "      <td>...</td>\n",
       "      <td>...</td>\n",
       "    </tr>\n",
       "    <tr>\n",
       "      <th>122</th>\n",
       "      <td>Billy Joel</td>\n",
       "      <td>Movin' Out (Anthony's Song)</td>\n",
       "      <td>Billy-joel-movin-out-anthonys-song</td>\n",
       "      <td>'Anthony works in the grocery store', Savin' ...</td>\n",
       "    </tr>\n",
       "    <tr>\n",
       "      <th>123</th>\n",
       "      <td>Billy Joel</td>\n",
       "      <td>She's Always a Woman</td>\n",
       "      <td>Billy-joel-shes-always-a-woman</td>\n",
       "      <td>'She can kill with a smile, she can wound with...</td>\n",
       "    </tr>\n",
       "    <tr>\n",
       "      <th>124</th>\n",
       "      <td>Billy Joel</td>\n",
       "      <td>Scenes from an Italian Restaurant</td>\n",
       "      <td>Billy-joel-scenes-from-an-italian-restaurant</td>\n",
       "      <td>'A bottle of white, a bottle of red', 'Perhaps...</td>\n",
       "    </tr>\n",
       "    <tr>\n",
       "      <th>125</th>\n",
       "      <td>Billy Joel</td>\n",
       "      <td>Just the Way You Are</td>\n",
       "      <td>Billy-joel-just-the-way-you-are</td>\n",
       "      <td>Don't go changing to try and please me, 'You ...</td>\n",
       "    </tr>\n",
       "    <tr>\n",
       "      <th>126</th>\n",
       "      <td>Billy Joel</td>\n",
       "      <td>My Life</td>\n",
       "      <td>Billy-joel-my-life</td>\n",
       "      <td>'Got a call from an old friend, we used to be...</td>\n",
       "    </tr>\n",
       "  </tbody>\n",
       "</table>\n",
       "<p>127 rows × 4 columns</p>\n",
       "</div>"
      ],
      "text/plain": [
       "             artist                                title  \\\n",
       "0    Billie Eilish                              COPYCAT    \n",
       "1    Billie Eilish              ​idontwannabeyouanymore    \n",
       "2    Billie Eilish                              ​my boy    \n",
       "3    Billie Eilish                               ​watch    \n",
       "4    Billie Eilish                        ​​party favor    \n",
       "..              ...                                  ...   \n",
       "122     Billy Joel          Movin' Out (Anthony's Song)    \n",
       "123     Billy Joel                 She's Always a Woman    \n",
       "124     Billy Joel    Scenes from an Italian Restaurant    \n",
       "125     Billy Joel                 Just the Way You Are    \n",
       "126     Billy Joel                              My Life    \n",
       "\n",
       "                                          song_id  \\\n",
       "0                           Billie-eilish-copycat   \n",
       "1            Billie-eilish-idontwannabeyouanymore   \n",
       "2                            Billie-eilish-my-boy   \n",
       "3                             Billie-eilish-watch   \n",
       "4                       Billie-eilish-party-favor   \n",
       "..                                            ...   \n",
       "122            Billy-joel-movin-out-anthonys-song   \n",
       "123                Billy-joel-shes-always-a-woman   \n",
       "124  Billy-joel-scenes-from-an-italian-restaurant   \n",
       "125               Billy-joel-just-the-way-you-are   \n",
       "126                            Billy-joel-my-life   \n",
       "\n",
       "                                                lyrics  \n",
       "0     Don't be cautious, don't be kind, You committ...  \n",
       "1     Don't be that way, 'Fall apart twice a day', ...  \n",
       "2     '(Three and four and)', 'Ba-ba-da, ba-ba-da-b...  \n",
       "3     'Lips meet teeth and tongue', 'My heart skips...  \n",
       "4     'Hey, leave a message',   'Hey, call me back ...  \n",
       "..                                                 ...  \n",
       "122   'Anthony works in the grocery store', Savin' ...  \n",
       "123  'She can kill with a smile, she can wound with...  \n",
       "124  'A bottle of white, a bottle of red', 'Perhaps...  \n",
       "125   Don't go changing to try and please me, 'You ...  \n",
       "126   'Got a call from an old friend, we used to be...  \n",
       "\n",
       "[127 rows x 4 columns]"
      ]
     },
     "execution_count": 32,
     "metadata": {},
     "output_type": "execute_result"
    }
   ],
   "source": [
    "df"
   ]
  },
  {
   "cell_type": "code",
   "execution_count": 41,
   "metadata": {},
   "outputs": [],
   "source": [
    "with open('only_lyrics.txt', 'w') as f:\n",
    "    f.write(str(lyrics))"
   ]
  },
  {
   "cell_type": "code",
   "execution_count": 80,
   "metadata": {},
   "outputs": [
    {
     "name": "stdout",
     "output_type": "stream",
     "text": [
      "Corpus length: 140756\n"
     ]
    }
   ],
   "source": [
    "text = (open('only_lyrics.txt').read().lower())\n",
    "print(f'Corpus length: {len(text)}')"
   ]
  },
  {
   "cell_type": "code",
   "execution_count": 71,
   "metadata": {},
   "outputs": [
    {
     "name": "stdout",
     "output_type": "stream",
     "text": [
      "Number of sequences: 46899\n",
      "Unique chracters: 55\n",
      "Vectorization...\n",
      "CPU times: user 942 ms, sys: 62.4 ms, total: 1 s\n",
      "Wall time: 1.02 s\n"
     ]
    }
   ],
   "source": [
    "%%time\n",
    "# Vectorizing sequences of characters\n",
    "\n",
    "maxlen = 60\n",
    "step = 3\n",
    "sentences = []\n",
    "next_chars = []\n",
    "\n",
    "for i in range(0, len(text) - maxlen, step):\n",
    "    sentences.append(text[i: i + maxlen])\n",
    "    next_chars.append(text[i + maxlen])\n",
    "    \n",
    "print(f'Number of sequences: {len(sentences)}')\n",
    "\n",
    "chars = sorted(list(set(text)))\n",
    "print(f'Unique chracters: {len(chars)}')\n",
    "char_indices = dict((char, chars.index(char)) for char in chars)\n",
    "\n",
    "print('Vectorization...')\n",
    "\n",
    "x = np.zeros((len(sentences), maxlen, len(chars)), dtype=np.bool)\n",
    "y = np.zeros((len(sentences), len(chars)), dtype=np.bool)\n",
    "for i, sentence in enumerate(sentences):\n",
    "    for t, char in enumerate(sentence):\n",
    "        x[i, t, char_indices[char]] = 1\n",
    "    y[i, char_indices[next_chars[i]]] = 1"
   ]
  },
  {
   "cell_type": "code",
   "execution_count": 81,
   "metadata": {},
   "outputs": [],
   "source": [
    "# print(text)"
   ]
  },
  {
   "cell_type": "code",
   "execution_count": 88,
   "metadata": {},
   "outputs": [],
   "source": [
    "# Building up LSTM model\n",
    "\n",
    "model = Sequential()\n",
    "model.add(LSTM(500, input_shape=(maxlen, len(chars)), return_sequences=True))\n",
    "model.add(Dropout(0.2))\n",
    "model.add(LSTM(500, return_sequences=True))\n",
    "model.add(Dropout(0.2))\n",
    "model.add(LSTM(500, return_sequences=True))\n",
    "model.add(Dropout(0.2))\n",
    "model.add(Dense(len(chars), activation='softmax'))\n",
    "\n",
    "optimizer = keras.optimizers.RMSprop(lr=0.01)\n",
    "model.compile(loss='categorical_crossentropy', optimizer=optimizer)"
   ]
  },
  {
   "cell_type": "code",
   "execution_count": 89,
   "metadata": {},
   "outputs": [
    {
     "name": "stdout",
     "output_type": "stream",
     "text": [
      "_________________________________________________________________\n",
      "Layer (type)                 Output Shape              Param #   \n",
      "=================================================================\n",
      "lstm_9 (LSTM)                (None, 60, 500)           1112000   \n",
      "_________________________________________________________________\n",
      "dropout_8 (Dropout)          (None, 60, 500)           0         \n",
      "_________________________________________________________________\n",
      "lstm_10 (LSTM)               (None, 60, 500)           2002000   \n",
      "_________________________________________________________________\n",
      "dropout_9 (Dropout)          (None, 60, 500)           0         \n",
      "_________________________________________________________________\n",
      "lstm_11 (LSTM)               (None, 60, 500)           2002000   \n",
      "_________________________________________________________________\n",
      "dropout_10 (Dropout)         (None, 60, 500)           0         \n",
      "_________________________________________________________________\n",
      "dense_3 (Dense)              (None, 60, 55)            27555     \n",
      "=================================================================\n",
      "Total params: 5,143,555\n",
      "Trainable params: 5,143,555\n",
      "Non-trainable params: 0\n",
      "_________________________________________________________________\n"
     ]
    }
   ],
   "source": [
    "model.summary()"
   ]
  },
  {
   "cell_type": "code",
   "execution_count": null,
   "metadata": {},
   "outputs": [],
   "source": [
    "\"\"\"\n",
    "DON'T RUN THIS LOCALLY!!!!\n",
    "\"\"\"\n",
    "\n",
    "# model.fit(x,y, epochs=100, batch_size=32)\n",
    "model.save_weights('lyric_generator_Feb1_2020.h5')"
   ]
  },
  {
   "cell_type": "code",
   "execution_count": 90,
   "metadata": {},
   "outputs": [],
   "source": [
    "# Reweighting probability distribution to introduce extra randomness into text generation\n",
    "# Prior iterations performed well with a 'temperature' ~0.6 to balance creativity and coherence\n",
    "\n",
    "def sample(preds, temperature=0.6):\n",
    "    preds = np.asarray(preds).astype('float64')\n",
    "    preds = np.log(preds) / temperature\n",
    "    exp_preds = np.exp(preds)\n",
    "    preds = exp_preds / np.sum(exp_preds)\n",
    "    probas = np.random.multinomial(1, preds, 1)\n",
    "    return np.argmax(probas)"
   ]
  },
  {
   "cell_type": "code",
   "execution_count": null,
   "metadata": {},
   "outputs": [],
   "source": [
    "# Generatic sample lyrics to check model efficacy\n",
    "\n",
    "for song in range(1, 60):\n",
    "    print(f'Grammy Award Winning Song #{song}')\n",
    "    start_index = random.randint(0, len(text) - maxlen - 1)\n",
    "    generated_text = text[start_index: start_index + maxlen]\n",
    "    print('-------- Generating with seed lyrics\"' + generated_text + '\"')\n",
    "    \n",
    "    # Number of characters assuming an average song length of 200-300 words\n",
    "    for i in range(800):\n",
    "        sampled = np.zeros((1, maxlen, len(chars)))\n",
    "        for t, char in enumerate(generated_text):\n",
    "            sampled[0, t, char_indices[char]] = 1\n",
    "            \n",
    "        preds = model.predict(sampled, verbose=0)[0]\n",
    "        next_index = sample(preds, temperature)\n",
    "        next_char = chars[next_index]\n",
    "        \n",
    "        generated_text += next_char\n",
    "        generated_text = generated_text[1:]\n",
    "        \n",
    "        sys.std.out.write(next_char)"
   ]
  }
 ],
 "metadata": {
  "kernelspec": {
   "display_name": "billie-kernel",
   "language": "python",
   "name": "billie-kernel"
  },
  "language_info": {
   "codemirror_mode": {
    "name": "ipython",
    "version": 3
   },
   "file_extension": ".py",
   "mimetype": "text/x-python",
   "name": "python",
   "nbconvert_exporter": "python",
   "pygments_lexer": "ipython3",
   "version": "3.7.4"
  }
 },
 "nbformat": 4,
 "nbformat_minor": 4
}
